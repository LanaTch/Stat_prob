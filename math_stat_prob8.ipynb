{
 "cells": [
  {
   "cell_type": "code",
   "execution_count": 9,
   "metadata": {},
   "outputs": [],
   "source": [
    "import numpy as np\n",
    "import pandas as pd\n",
    "from scipy import stats"
   ]
  },
  {
   "cell_type": "markdown",
   "metadata": {},
   "source": [
    "### Задача 1\n",
    "\n",
    "Провести дисперсионный анализ для определения того, есть ли различия среднего роста среди взрослых футболистов, хоккеистов и штангистов. Даны значения роста в трех группах случайно выбранных спортсменов:\n",
    "\n",
    "football_players = [173, 175, 180, 178, 177, 185, 183, 182]\n",
    "\n",
    "hockey_players = [177, 179, 180, 188, 177, 172, 171, 184, 180]\n",
    "\n",
    "lifters = [172, 173, 169, 177, 166, 180, 178, 177, 172, 166, 170]"
   ]
  },
  {
   "cell_type": "code",
   "execution_count": 3,
   "metadata": {},
   "outputs": [
    {
     "name": "stdout",
     "output_type": "stream",
     "text": [
      "179.125 178.66666666666666 172.72727272727272 176.46428571428572\n"
     ]
    }
   ],
   "source": [
    "football_players = np.array([173, 175, 180, 178, 177, 185, 183, 182])\n",
    "hockey_players = np.array([177, 179, 180, 188, 177, 172, 171, 184, 180])\n",
    "lifters = np.array([172, 173, 169, 177, 166, 180, 178, 177, 172, 166, 170])\n",
    "all_sport = np.concatenate([football_players, hockey_players, lifters])\n",
    "\n",
    "mean_f = football_players.mean()\n",
    "mean_h = hockey_players.mean()\n",
    "mean_l = lifters.mean()\n",
    "mean_all = all_sport.mean()\n",
    "\n",
    "print(mean_f, mean_h, mean_l, mean_all)\n"
   ]
  },
  {
   "cell_type": "markdown",
   "metadata": {},
   "source": [
    "среднее значение у всех выборок очень близко по значению. \n",
    "предполагаем нормальность распределения ошибок, для проверки гипотезы (о равности средних значений выборок) используем статистику Фишера"
   ]
  },
  {
   "cell_type": "code",
   "execution_count": null,
   "metadata": {},
   "outputs": [],
   "source": []
  },
  {
   "cell_type": "code",
   "execution_count": 4,
   "metadata": {},
   "outputs": [],
   "source": [
    "k = 3\n",
    "nf = football_players.size\n",
    "nh = hockey_players.size\n",
    "nl = lifters.size\n",
    "\n",
    "n = nf + nh + nl\n",
    "\n",
    "k1 = k - 1\n",
    "k2 = n - k"
   ]
  },
  {
   "cell_type": "markdown",
   "metadata": {},
   "source": [
    "Найдём значения $S_F$ и $S_{res}$:"
   ]
  },
  {
   "cell_type": "code",
   "execution_count": 5,
   "metadata": {},
   "outputs": [
    {
     "name": "stdout",
     "output_type": "stream",
     "text": [
      "253.9074675324678 577.0568181818182\n"
     ]
    }
   ],
   "source": [
    "S2_F = nf * (mean_f - mean_all) ** 2 + nh * (mean_h - mean_all) ** 2 + nl * (mean_l - mean_all) ** 2\n",
    "\n",
    "S2_res = ((football_players - mean_f) ** 2).sum() + ((hockey_players - mean_h) ** 2).sum() + ((lifters - mean_l) ** 2).sum()\n",
    "\n",
    "print(S2_F, S2_res)"
   ]
  },
  {
   "cell_type": "code",
   "execution_count": 7,
   "metadata": {},
   "outputs": [
    {
     "name": "stdout",
     "output_type": "stream",
     "text": [
      "126.9537337662339 23.08227272727273\n"
     ]
    }
   ],
   "source": [
    "sigma2_F = S2_F / k1\n",
    "sigma2_res = S2_res / k2\n",
    "\n",
    "print(sigma2_F, sigma2_res)"
   ]
  },
  {
   "cell_type": "code",
   "execution_count": null,
   "metadata": {},
   "outputs": [],
   "source": []
  },
  {
   "cell_type": "markdown",
   "metadata": {},
   "source": [
    "значение статистики $T$:"
   ]
  },
  {
   "cell_type": "code",
   "execution_count": 8,
   "metadata": {},
   "outputs": [
    {
     "data": {
      "text/plain": [
       "5.500053450812598"
      ]
     },
     "execution_count": 8,
     "metadata": {},
     "output_type": "execute_result"
    }
   ],
   "source": [
    "T = sigma2_F / sigma2_res\n",
    "T"
   ]
  },
  {
   "cell_type": "code",
   "execution_count": 15,
   "metadata": {},
   "outputs": [
    {
     "name": "stdout",
     "output_type": "stream",
     "text": [
      "при уровне значимости > 0.010482206918698611 гипотеза о равности средних будет не отвергаться\n"
     ]
    }
   ],
   "source": [
    "print(f'при уровне значимости > {1 - stats.f.cdf(T, k1, k2)} гипотеза о равности средних будет не отвергаться')"
   ]
  },
  {
   "cell_type": "code",
   "execution_count": null,
   "metadata": {},
   "outputs": [],
   "source": []
  },
  {
   "cell_type": "markdown",
   "metadata": {},
   "source": [
    "### Задача 2\n",
    "\n",
    "Прикрепить ссылку на курсовой проект на github (см. выбор темы в ДЗ к Уроку 6)."
   ]
  },
  {
   "cell_type": "code",
   "execution_count": null,
   "metadata": {},
   "outputs": [],
   "source": []
  }
 ],
 "metadata": {
  "kernelspec": {
   "display_name": "Python 3",
   "language": "python",
   "name": "python3"
  },
  "language_info": {
   "codemirror_mode": {
    "name": "ipython",
    "version": 3
   },
   "file_extension": ".py",
   "mimetype": "text/x-python",
   "name": "python",
   "nbconvert_exporter": "python",
   "pygments_lexer": "ipython3",
   "version": "3.7.0"
  }
 },
 "nbformat": 4,
 "nbformat_minor": 2
}
