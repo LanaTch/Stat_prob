{
 "cells": [
  {
   "cell_type": "code",
   "execution_count": 1,
   "metadata": {},
   "outputs": [],
   "source": [
    "import numpy as np"
   ]
  },
  {
   "cell_type": "markdown",
   "metadata": {},
   "source": [
    "### Задача 1\n",
    "\n",
    "Утверждается, что шарики для подшипников, изготовленные автоматическим станком, имеют средний диаметр 17 мм. Используя уровень значимости 0.025 и правостороннюю критическую область, проверить данную гипотезу при условии, что в выборке из 100 шариков средний диаметр оказался равным 17.5 мм, а дисперсия известна и равна 4 мм."
   ]
  },
  {
   "cell_type": "markdown",
   "metadata": {},
   "source": [
    "Нулевая гипотеза: H0 : µ = 17. Альтернативная гипотеза (односторонняя) H1 : µ > 17\n",
    "Вычисляем наблюдаемое значение критерия"
   ]
  },
  {
   "cell_type": "code",
   "execution_count": 2,
   "metadata": {},
   "outputs": [
    {
     "name": "stdout",
     "output_type": "stream",
     "text": [
      "нулевая гипотеза принята. т к 1.25 < 1.645, средний диаметр 17.5\n"
     ]
    }
   ],
   "source": [
    "d0 = 17\n",
    "a = 0.025\n",
    "n = 100\n",
    "d = 17.5\n",
    "D = 4\n",
    "\n",
    "Uw = (d - d0)/D * np.sqrt(n) # вероятность\n",
    "Pk = (1-2*a)/2 # вероятность в критической точке\n",
    "\n",
    "U = 1.645 # по таблице функции лапласса соответствует значению фукнции Фи 0.45\n",
    "if Uw < U:\n",
    "    print(f'нулевая гипотеза принята. т к {Uw} < {U}, средний диаметр 17.5')"
   ]
  },
  {
   "cell_type": "code",
   "execution_count": null,
   "metadata": {},
   "outputs": [],
   "source": []
  },
  {
   "cell_type": "markdown",
   "metadata": {},
   "source": [
    "### Задача 2\n",
    "\n",
    "Известно, что генеральная совокупность распределена нормально со средним квадратическим отклонением 16. Найти доверительный интервал для оценки математического ожидания a с надежностью 0.95, если выборочное среднее равно 80, а объём равен 256."
   ]
  },
  {
   "cell_type": "code",
   "execution_count": 3,
   "metadata": {},
   "outputs": [
    {
     "data": {
      "text/plain": [
       "(78.35192395185828, 81.64807604814172)"
      ]
     },
     "execution_count": 3,
     "metadata": {},
     "output_type": "execute_result"
    }
   ],
   "source": [
    "sigma = 16\n",
    "alpha = 0.05\n",
    "m_mean = 80\n",
    "n = 256\n",
    "\n",
    "s = sigma*np.sqrt(n/(n-1)) # несмещенное среднеквадратичное\n",
    "t = 1.644854 # по таблице для alpha = 0.05 и k = inf\n",
    "(m_mean - t * s / np.sqrt(n), m_mean + t * s / np.sqrt(n))"
   ]
  },
  {
   "cell_type": "markdown",
   "metadata": {},
   "source": [
    "### Задача 3\n",
    "\n",
    "Продавец утверждает, что средний вес пачки печенья составляет 200 г. Из партии извлечена выборка из 10 пачек. Вес каждой пачки составляет:\n",
    "\n",
    "202, 203, 199, 197, 195, 201, 200, 204, 194, 190\n",
    "\n",
    "Известно, что их веса распределены нормально. Верно ли утверждение продавца, если учитывать, что доверительная вероятность равна 99%?"
   ]
  },
  {
   "cell_type": "code",
   "execution_count": 4,
   "metadata": {},
   "outputs": [
    {
     "name": "stdout",
     "output_type": "stream",
     "text": [
      "утверждение продавца верно\n"
     ]
    }
   ],
   "source": [
    "sample = np.array([202, 203, 199, 197, 195, 201, 200, 204, 194, 190])\n",
    "w_mean = 200\n",
    "M = w_mean # гипотетическое значение матожидания (утверждение продавца)\n",
    "n = len(sample)\n",
    "\n",
    "alpha = 0.01\n",
    "\n",
    "m = sample.mean() # среднее выборка (показатель выборки)\n",
    "s = sample.std(ddof=1) # исправленная выборочная дисперсия\n",
    "\n",
    "T = (m - M)/s*np.sqrt(n) # наблюдаемая\n",
    "\n",
    "Tk = 3.2498 # критическое значение по таблице при alpha = 0.01 k = 9    \n",
    "\n",
    "if np.abs(T) < Tk: \n",
    "    print('утверждение продавца верно')"
   ]
  },
  {
   "cell_type": "code",
   "execution_count": null,
   "metadata": {},
   "outputs": [],
   "source": []
  }
 ],
 "metadata": {
  "kernelspec": {
   "display_name": "Python 3",
   "language": "python",
   "name": "python3"
  },
  "language_info": {
   "codemirror_mode": {
    "name": "ipython",
    "version": 3
   },
   "file_extension": ".py",
   "mimetype": "text/x-python",
   "name": "python",
   "nbconvert_exporter": "python",
   "pygments_lexer": "ipython3",
   "version": "3.7.0"
  }
 },
 "nbformat": 4,
 "nbformat_minor": 2
}
