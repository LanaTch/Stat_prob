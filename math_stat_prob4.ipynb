{
 "cells": [
  {
   "cell_type": "code",
   "execution_count": 9,
   "metadata": {},
   "outputs": [],
   "source": [
    "import pandas as pd\n",
    "import numpy as np\n",
    "from scipy.optimize import fsolve\n",
    "import scipy.stats as ss"
   ]
  },
  {
   "cell_type": "markdown",
   "metadata": {},
   "source": [
    "### Задача 1\n",
    "\n",
    "О непрерывной равномерно распределенной случайной величине B известно, что ее дисперсия равна 0.2. Можно ли найти правую границу величины B и ее среднее значение зная, что левая граница равна 0.5? Если да, найдите ее."
   ]
  },
  {
   "cell_type": "markdown",
   "metadata": {},
   "source": [
    "$$M(X) = \\dfrac{a + b}{2}, \\text{ } D(X) = \\dfrac{(b - a)^2}{12}.$$"
   ]
  },
  {
   "cell_type": "code",
   "execution_count": 10,
   "metadata": {},
   "outputs": [
    {
     "name": "stdout",
     "output_type": "stream",
     "text": [
      "правая граница B = 2.049, математическое ожидание M = 1.275\n"
     ]
    }
   ],
   "source": [
    "D = 0.2\n",
    "A = 0.5\n",
    "# чтобы найти правую границу равномерного распределения, зная левую и дисперсию, \n",
    "# надо решить уравнение: 0.2 = (b - 0.5)**2/12\n",
    "def equations(x):\n",
    "    return ((x-A)**2/12-D)\n",
    "\n",
    "B = float(fsolve(equations, (2))) # с помощью встроенной функции численного высчисления найходим корень уравнения\n",
    "M = (A + B)/2\n",
    "\n",
    "print(f'правая граница B = {B:.4}, математическое ожидание M = {M:.4}')"
   ]
  },
  {
   "cell_type": "markdown",
   "metadata": {},
   "source": [
    "### Задача 2\n",
    "\n",
    "На сколько сигм (средних квадратических отклонений) отклоняется рост человека, равный 190 см, от математического ожидания роста в популяции, в которой M(X) = 178 и D(X) = 25?"
   ]
  },
  {
   "cell_type": "code",
   "execution_count": 12,
   "metadata": {},
   "outputs": [
    {
     "name": "stdout",
     "output_type": "stream",
     "text": [
      "на 2.4 среднеквадратических отклонений отклоняется рост в 190 см\n"
     ]
    }
   ],
   "source": [
    "M = 178\n",
    "D = 25\n",
    "R = 190\n",
    "\n",
    "sigma = np.sqrt(D)\n",
    "\n",
    "print(f'на {(R - M)/sigma} среднеквадратических отклонений отклоняется рост в 190 см')"
   ]
  },
  {
   "cell_type": "code",
   "execution_count": null,
   "metadata": {},
   "outputs": [],
   "source": []
  },
  {
   "cell_type": "markdown",
   "metadata": {},
   "source": [
    "### Задача 3\n",
    "\n",
    "Рост взрослого населения города X имеет нормальное распределение, причем, средний рост равен 174 см, а среднее квадратическое отклонение равно 8 см. Какова вероятность того, что случайным образом выбранный взрослый человек имеет рост:\n",
    "1. больше 182 см?\n",
    "2. больше 190 см?\n",
    "3. от 166 см до 190 см?\n",
    "4. от 166 см до 182 см?\n",
    "5. от 158 см до 190 см?\n",
    "6. не выше 150 см или не ниже 190 см?\n",
    "7. не выше 150 см или не ниже 198 см?\n",
    "8. ниже 166 см?"
   ]
  },
  {
   "cell_type": "code",
   "execution_count": 70,
   "metadata": {},
   "outputs": [
    {
     "name": "stdout",
     "output_type": "stream",
     "text": [
      "больше 182 см                     0.15866\n",
      "больше 190 см                     0.02275\n",
      "от 166 см до 190 см               0.81859\n",
      "от 166 см до 182 см               0.68269\n",
      "от 158 см до 190 см               0.9545\n",
      "не выше 150 см или не ниже 190 см 0.0241\n",
      "не выше 150 см или не ниже 198 см 0.0026998\n",
      "ниже 166 см                       0.15866\n"
     ]
    }
   ],
   "source": [
    "a = 174\n",
    "sigma = 8\n",
    "\n",
    "p_1 = 1 - ss.norm(a, sigma).cdf(182)\n",
    "p_2 = 1 - ss.norm(a, sigma).cdf(190)\n",
    "p_3 = ss.norm(a, sigma).cdf(190) - ss.norm(a, sigma).cdf(166)\n",
    "p_4 = ss.norm(a, sigma).cdf(182) - ss.norm(a, sigma).cdf(166)\n",
    "p_5 = ss.norm(a, sigma).cdf(190) - ss.norm(a, sigma).cdf(158)\n",
    "p_6 = ss.norm(a, sigma).cdf(150) + (1 - ss.norm(a, sigma).cdf(190))\n",
    "p_7 = ss.norm(a, sigma).cdf(150) + (1 - ss.norm(a, sigma).cdf(198))\n",
    "p_8 = ss.norm(a, sigma).cdf(166)\n",
    "print(f'больше 182 см                     {p_1:.5}')\n",
    "print(f'больше 190 см                     {p_2:.5}') \n",
    "print(f'от 166 см до 190 см               {p_3:.5}')\n",
    "print(f'от 166 см до 182 см               {p_4:.5}')\n",
    "print(f'от 158 см до 190 см               {p_5:.5}')\n",
    "print(f'не выше 150 см или не ниже 190 см {p_6:.5}') \n",
    "print(f'не выше 150 см или не ниже 198 см {p_7:.5}')\n",
    "print(f'ниже 166 см                       {p_8:.5}')"
   ]
  },
  {
   "cell_type": "code",
   "execution_count": null,
   "metadata": {},
   "outputs": [],
   "source": []
  }
 ],
 "metadata": {
  "kernelspec": {
   "display_name": "Python 3",
   "language": "python",
   "name": "python3"
  },
  "language_info": {
   "codemirror_mode": {
    "name": "ipython",
    "version": 3
   },
   "file_extension": ".py",
   "mimetype": "text/x-python",
   "name": "python",
   "nbconvert_exporter": "python",
   "pygments_lexer": "ipython3",
   "version": "3.7.0"
  }
 },
 "nbformat": 4,
 "nbformat_minor": 2
}
